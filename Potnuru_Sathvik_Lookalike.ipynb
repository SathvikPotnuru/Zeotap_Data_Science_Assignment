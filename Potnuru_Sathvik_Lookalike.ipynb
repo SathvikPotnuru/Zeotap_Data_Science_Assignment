{
 "cells": [
  {
   "cell_type": "code",
   "execution_count": 1,
   "metadata": {},
   "outputs": [],
   "source": [
    "from sklearn.metrics.pairwise import cosine_similarity\n",
    "import pandas as pd\n",
    "from sklearn.preprocessing import MinMaxScaler"
   ]
  },
  {
   "cell_type": "code",
   "execution_count": 2,
   "metadata": {},
   "outputs": [],
   "source": [
    "customers = pd.read_csv(\"Customers.csv\")\n",
    "products = pd.read_csv(\"Products.csv\")\n",
    "transactions = pd.read_csv(\"Transactions.csv\")"
   ]
  },
  {
   "cell_type": "code",
   "execution_count": 3,
   "metadata": {},
   "outputs": [],
   "source": [
    "merged_data = pd.merge(transactions, customers, on=\"CustomerID\", how=\"left\")\n",
    "merged_data = pd.merge(merged_data, products, on=\"ProductID\", how=\"left\")"
   ]
  },
  {
   "cell_type": "code",
   "execution_count": 4,
   "metadata": {},
   "outputs": [],
   "source": [
    "customer_features = merged_data.groupby('CustomerID').agg({\n",
    "    'TotalValue': 'sum',  \n",
    "    'ProductID': 'count',  \n",
    "    'Category': lambda x: x.mode()[0],  \n",
    "}).rename(columns={'TotalValue': 'TotalSpending', 'ProductID': 'TotalTransactions'})"
   ]
  },
  {
   "cell_type": "code",
   "execution_count": 5,
   "metadata": {},
   "outputs": [],
   "source": [
    "customer_features = pd.get_dummies(customer_features, columns=['Category'])"
   ]
  },
  {
   "cell_type": "code",
   "execution_count": 6,
   "metadata": {},
   "outputs": [],
   "source": [
    "scaler = MinMaxScaler()\n",
    "numerical_cols = ['TotalSpending', 'TotalTransactions']\n",
    "customer_features[numerical_cols] = scaler.fit_transform(customer_features[numerical_cols])"
   ]
  },
  {
   "cell_type": "code",
   "execution_count": 7,
   "metadata": {},
   "outputs": [],
   "source": [
    "similarity_matrix = cosine_similarity(customer_features)\n",
    "similarity_df = pd.DataFrame(similarity_matrix, index=customer_features.index, columns=customer_features.index)"
   ]
  },
  {
   "cell_type": "code",
   "execution_count": 8,
   "metadata": {},
   "outputs": [],
   "source": [
    "lookalike_map = {}\n",
    "for customer_id in customers['CustomerID'].iloc[:20]:\n",
    "    if customer_id in similarity_df.index:\n",
    "        similar_customers = similarity_df[customer_id].sort_values(ascending=False).drop(customer_id).head(3)\n",
    "        lookalike_map[customer_id] = list(zip(similar_customers.index, similar_customers.values))"
   ]
  },
  {
   "cell_type": "code",
   "execution_count": 9,
   "metadata": {},
   "outputs": [
    {
     "name": "stdout",
     "output_type": "stream",
     "text": [
      "Potnuru_Sathvik_Lookalike.csv has been created.\n"
     ]
    }
   ],
   "source": [
    "lookalike_df = pd.DataFrame({\n",
    "    \"CustomerID\": lookalike_map.keys(),\n",
    "    \"Lookalikes\": [str(v) for v in lookalike_map.values()]\n",
    "})\n",
    "lookalike_df.to_csv(\"Potnuru_Sathvik_Lookalike.csv\", index=False)\n",
    "print(\"Potnuru_Sathvik_Lookalike.csv has been created.\")"
   ]
  }
 ],
 "metadata": {
  "kernelspec": {
   "display_name": "base",
   "language": "python",
   "name": "python3"
  },
  "language_info": {
   "codemirror_mode": {
    "name": "ipython",
    "version": 3
   },
   "file_extension": ".py",
   "mimetype": "text/x-python",
   "name": "python",
   "nbconvert_exporter": "python",
   "pygments_lexer": "ipython3",
   "version": "3.11.5"
  }
 },
 "nbformat": 4,
 "nbformat_minor": 2
}
