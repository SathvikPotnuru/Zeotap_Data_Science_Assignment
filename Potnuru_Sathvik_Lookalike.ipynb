{
 "cells": [
  {
   "cell_type": "code",
   "execution_count": 11,
   "metadata": {},
   "outputs": [],
   "source": [
    "# Import the necessary libraries\n",
    "from sklearn.metrics.pairwise import cosine_similarity\n",
    "import pandas as pd\n",
    "from sklearn.preprocessing import MinMaxScaler"
   ]
  },
  {
   "cell_type": "code",
   "execution_count": 12,
   "metadata": {},
   "outputs": [],
   "source": [
    "# Load the datasets from CSV files\n",
    "customers = pd.read_csv(\"Customers.csv\")\n",
    "products = pd.read_csv(\"Products.csv\")\n",
    "transactions = pd.read_csv(\"Transactions.csv\")"
   ]
  },
  {
   "cell_type": "code",
   "execution_count": 13,
   "metadata": {},
   "outputs": [],
   "source": [
    "# Merge all datasets into one comprehensive dataset based on common columns\n",
    "merged_data = pd.merge(transactions, customers, on=\"CustomerID\", how=\"left\")\n",
    "merged_data = pd.merge(merged_data, products, on=\"ProductID\", how=\"left\")"
   ]
  },
  {
   "cell_type": "code",
   "execution_count": 14,
   "metadata": {},
   "outputs": [],
   "source": [
    "# Aggregate customer transaction history to summarize key features\n",
    "customer_features = merged_data.groupby('CustomerID').agg({\n",
    "    'TotalValue': 'sum',  \n",
    "    'ProductID': 'count',  \n",
    "    'Category': lambda x: x.mode()[0],  \n",
    "}).rename(columns={'TotalValue': 'TotalSpending', 'ProductID': 'TotalTransactions'})"
   ]
  },
  {
   "cell_type": "code",
   "execution_count": 15,
   "metadata": {},
   "outputs": [],
   "source": [
    "# Convert categorical feature 'Category' into dummy variables (0s and 1s) for similarity calculation\n",
    "customer_features = pd.get_dummies(customer_features, columns=['Category'])"
   ]
  },
  {
   "cell_type": "code",
   "execution_count": 16,
   "metadata": {},
   "outputs": [],
   "source": [
    "# Normalize numerical features to a common scale\n",
    "scaler = MinMaxScaler()\n",
    "numerical_cols = ['TotalSpending', 'TotalTransactions']\n",
    "customer_features[numerical_cols] = scaler.fit_transform(customer_features[numerical_cols])"
   ]
  },
  {
   "cell_type": "code",
   "execution_count": 17,
   "metadata": {},
   "outputs": [],
   "source": [
    "# Calculate the cosine similarity matrix between customers\n",
    "similarity_matrix = cosine_similarity(customer_features)\n",
    "similarity_df = pd.DataFrame(similarity_matrix, index=customer_features.index, columns=customer_features.index)"
   ]
  },
  {
   "cell_type": "code",
   "execution_count": 18,
   "metadata": {},
   "outputs": [],
   "source": [
    "# Generate Lookalike recommendations for the first 20 customers based on similarity scores\n",
    "lookalike_map = {}\n",
    "for customer_id in customers['CustomerID'].iloc[:20]:\n",
    "    if customer_id in similarity_df.index:\n",
    "        similar_customers = similarity_df[customer_id].sort_values(ascending=False).drop(customer_id).head(3)\n",
    "        lookalike_map[customer_id] = list(zip(similar_customers.index, similar_customers.values))"
   ]
  },
  {
   "cell_type": "code",
   "execution_count": 19,
   "metadata": {},
   "outputs": [
    {
     "name": "stdout",
     "output_type": "stream",
     "text": [
      "Potnuru_Sathvik_Lookalike.csv has been created.\n"
     ]
    }
   ],
   "source": [
    "# Create a DataFrame to save the lookalike recommendations to a CSV file\n",
    "lookalike_df = pd.DataFrame({\n",
    "    \"CustomerID\": lookalike_map.keys(),\n",
    "    \"Lookalikes\": [str(v) for v in lookalike_map.values()]\n",
    "})\n",
    "lookalike_df.to_csv(\"Potnuru_Sathvik_Lookalike.csv\", index=False)\n",
    "print(\"Potnuru_Sathvik_Lookalike.csv has been created.\")"
   ]
  }
 ],
 "metadata": {
  "kernelspec": {
   "display_name": "base",
   "language": "python",
   "name": "python3"
  },
  "language_info": {
   "codemirror_mode": {
    "name": "ipython",
    "version": 3
   },
   "file_extension": ".py",
   "mimetype": "text/x-python",
   "name": "python",
   "nbconvert_exporter": "python",
   "pygments_lexer": "ipython3",
   "version": "3.11.5"
  }
 },
 "nbformat": 4,
 "nbformat_minor": 2
}
